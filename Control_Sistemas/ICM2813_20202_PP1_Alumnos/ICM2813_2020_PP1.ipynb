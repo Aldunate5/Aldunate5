{
 "cells": [
  {
   "cell_type": "markdown",
   "metadata": {},
   "source": [
    "## ICM2813 2020-2\n",
    "# Proyecto Practico \\#1\n",
    "\n",
    "El siguiente proyecto busca que usted pueda implementar un control PID de modo de poder controlar la posición de un motor con una barra y analizar los resultados."
   ]
  },
  {
   "cell_type": "markdown",
   "metadata": {},
   "source": [
    "# Diseño del controlador"
   ]
  },
  {
   "cell_type": "markdown",
   "metadata": {},
   "source": [
    "Diseñar un controlador que permita mover la barra desde 0 grados (vertical) a 90 grados. Se le solicita que diseñe un controlador que permita hacer esto siguiendo las restricciones definidas en el enunciado del PP1."
   ]
  },
  {
   "cell_type": "code",
   "execution_count": 1,
   "metadata": {},
   "outputs": [
    {
     "name": "stdout",
     "output_type": "stream",
     "text": [
      "\n",
      "  Running B0 Remote API client with channel name [icm2813_motor]\n",
      "  make sure that: 1) the B0 resolver is running\n",
      "                  2) CoppeliaSim is running the B0 Remote API server with the same channel name\n",
      "  Initializing...\n",
      "\n",
      "\n",
      "  Connected!\n",
      "\n",
      "Inicializando Motor\n",
      "0.000,\t0.16\n",
      "0.050,\t-10.87\n",
      "0.100,\t-18.52\n",
      "0.150,\t-18.81\n",
      "0.200,\t-18.26\n",
      "0.250,\t-16.70\n",
      "0.300,\t-14.38\n",
      "0.350,\t-13.48\n",
      "0.400,\t-12.88\n",
      "0.450,\t-10.32\n",
      "0.500,\t-9.57\n",
      "0.550,\t-7.32\n",
      "0.600,\t-6.32\n",
      "0.650,\t-5.23\n",
      "0.700,\t-3.50\n",
      "0.750,\t-2.49\n",
      "0.800,\t-1.40\n",
      "0.850,\t1.31\n",
      "0.900,\t2.97\n",
      "0.950,\t3.92\n",
      "1.000,\t5.40\n",
      "1.050,\t7.40\n",
      "1.100,\t8.78\n",
      "1.150,\t10.89\n",
      "1.200,\t12.16\n",
      "1.250,\t13.39\n",
      "1.300,\t16.14\n",
      "1.350,\t17.83\n",
      "1.400,\t20.11\n",
      "1.450,\t21.89\n",
      "1.500,\t23.84\n",
      "1.550,\t25.18\n",
      "1.600,\t26.78\n",
      "1.650,\t28.25\n",
      "1.700,\t30.64\n",
      "1.750,\t33.71\n",
      "1.800,\t35.17\n",
      "1.850,\t37.62\n",
      "1.900,\t39.94\n",
      "1.950,\t40.87\n",
      "2.000,\t44.42\n",
      "2.050,\t45.46\n",
      "2.100,\t48.57\n",
      "2.150,\t49.90\n",
      "2.200,\t52.81\n",
      "2.250,\t55.50\n",
      "2.300,\t58.06\n",
      "2.350,\t59.67\n",
      "2.400,\t61.42\n",
      "2.450,\t64.73\n",
      "2.500,\t67.33\n",
      "2.550,\t69.93\n",
      "2.600,\t72.48\n",
      "2.650,\t73.70\n",
      "2.700,\t77.07\n",
      "2.750,\t79.74\n",
      "2.800,\t81.77\n",
      "2.850,\t84.48\n",
      "2.900,\t87.10\n",
      "2.950,\t89.65\n",
      "3.000,\t91.72\n",
      "3.050,\t95.70\n",
      "3.100,\t97.46\n",
      "3.150,\t99.33\n",
      "3.200,\t101.90\n",
      "3.250,\t105.12\n",
      "3.300,\t107.16\n",
      "3.350,\t109.32\n",
      "3.400,\t112.76\n",
      "3.450,\t114.08\n",
      "3.500,\t116.88\n",
      "3.550,\t119.44\n",
      "3.600,\t121.71\n",
      "3.650,\t124.63\n",
      "3.700,\t126.18\n",
      "3.750,\t128.36\n",
      "3.800,\t131.42\n",
      "3.850,\t134.08\n",
      "3.900,\t136.58\n",
      "3.950,\t138.67\n",
      "4.000,\t139.99\n",
      "4.050,\t142.41\n",
      "4.100,\t145.41\n",
      "4.150,\t147.50\n",
      "4.200,\t149.13\n",
      "4.250,\t151.10\n",
      "4.300,\t153.79\n",
      "4.350,\t155.62\n",
      "4.400,\t157.36\n",
      "4.450,\t159.56\n",
      "4.500,\t159.72\n",
      "4.550,\t162.39\n",
      "4.600,\t164.35\n",
      "4.650,\t167.75\n",
      "4.700,\t168.64\n",
      "4.750,\t169.56\n",
      "4.800,\t171.27\n",
      "4.850,\t173.32\n",
      "4.900,\t174.93\n",
      "4.950,\t176.91\n",
      "5.000,\t179.02\n",
      "5.050,\t-180.12\n",
      "5.100,\t-177.50\n",
      "5.150,\t-176.85\n",
      "5.200,\t-174.37\n",
      "5.250,\t-172.64\n",
      "5.300,\t-172.30\n",
      "5.350,\t-169.94\n",
      "5.400,\t-169.92\n",
      "5.450,\t-167.91\n",
      "5.500,\t-166.17\n",
      "5.550,\t-164.69\n",
      "5.600,\t-164.27\n",
      "5.650,\t-162.14\n",
      "5.700,\t-160.83\n",
      "5.750,\t-159.89\n",
      "5.800,\t-159.40\n",
      "5.850,\t-156.96\n",
      "5.900,\t-156.06\n",
      "5.950,\t-154.79\n",
      "6.000,\t-152.95\n",
      "6.050,\t-152.76\n",
      "6.100,\t-151.12\n",
      "6.150,\t-150.05\n",
      "6.200,\t-148.40\n",
      "6.250,\t-147.64\n"
     ]
    },
    {
     "ename": "KeyboardInterrupt",
     "evalue": "",
     "output_type": "error",
     "traceback": [
      "\u001b[1;31m---------------------------------------------------------------------------\u001b[0m",
      "\u001b[1;31mKeyboardInterrupt\u001b[0m                         Traceback (most recent call last)",
      "\u001b[1;32m<ipython-input-1-714156b4d5f9>\u001b[0m in \u001b[0;36m<module>\u001b[1;34m\u001b[0m\n\u001b[0;32m     61\u001b[0m \u001b[1;33m\u001b[0m\u001b[0m\n\u001b[0;32m     62\u001b[0m \u001b[0mm\u001b[0m \u001b[1;33m=\u001b[0m \u001b[0mMiControlador\u001b[0m\u001b[1;33m(\u001b[0m\u001b[1;33m)\u001b[0m\u001b[1;33m\u001b[0m\u001b[1;33m\u001b[0m\u001b[0m\n\u001b[1;32m---> 63\u001b[1;33m \u001b[0mm\u001b[0m\u001b[1;33m.\u001b[0m\u001b[0mrun\u001b[0m\u001b[1;33m(\u001b[0m\u001b[1;33m)\u001b[0m\u001b[1;33m\u001b[0m\u001b[1;33m\u001b[0m\u001b[0m\n\u001b[0m",
      "\u001b[1;32m~\\Documents\\Diego_Aldunate\\Control_Sistemas\\ICM2813_20202_PP1_Alumnos\\ICM2813\\Server.py\u001b[0m in \u001b[0;36mrun\u001b[1;34m(self)\u001b[0m\n\u001b[0;32m     84\u001b[0m                     \u001b[0mu\u001b[0m \u001b[1;33m=\u001b[0m \u001b[0mnp\u001b[0m\u001b[1;33m.\u001b[0m\u001b[0marray\u001b[0m\u001b[1;33m(\u001b[0m\u001b[1;33m[\u001b[0m\u001b[0mvoltage\u001b[0m\u001b[1;33m,\u001b[0m \u001b[0mtorque\u001b[0m\u001b[1;33m]\u001b[0m\u001b[1;33m)\u001b[0m\u001b[1;33m\u001b[0m\u001b[1;33m\u001b[0m\u001b[0m\n\u001b[0;32m     85\u001b[0m                     \u001b[0mx\u001b[0m \u001b[1;33m=\u001b[0m \u001b[0mnp\u001b[0m\u001b[1;33m.\u001b[0m\u001b[0marray\u001b[0m\u001b[1;33m(\u001b[0m\u001b[1;33m[\u001b[0m\u001b[0mself\u001b[0m\u001b[1;33m.\u001b[0m\u001b[0m_i\u001b[0m\u001b[1;33m,\u001b[0m \u001b[0mself\u001b[0m\u001b[1;33m.\u001b[0m\u001b[0m_theta\u001b[0m\u001b[1;33m]\u001b[0m\u001b[1;33m)\u001b[0m\u001b[1;33m\u001b[0m\u001b[1;33m\u001b[0m\u001b[0m\n\u001b[1;32m---> 86\u001b[1;33m                     \u001b[0mx_aux\u001b[0m \u001b[1;33m=\u001b[0m \u001b[0mstep_model\u001b[0m\u001b[1;33m(\u001b[0m\u001b[0mDCMotor\u001b[0m\u001b[1;33m,\u001b[0m \u001b[0mu\u001b[0m\u001b[1;33m,\u001b[0m \u001b[0mt\u001b[0m\u001b[1;33m,\u001b[0m \u001b[0mself\u001b[0m\u001b[1;33m.\u001b[0m\u001b[0m_dt\u001b[0m \u001b[1;33m,\u001b[0m \u001b[0mx\u001b[0m\u001b[1;33m)\u001b[0m\u001b[1;33m\u001b[0m\u001b[1;33m\u001b[0m\u001b[0m\n\u001b[0m\u001b[0;32m     87\u001b[0m                     \u001b[0mself\u001b[0m\u001b[1;33m.\u001b[0m\u001b[0m_i\u001b[0m \u001b[1;33m=\u001b[0m \u001b[0mx_aux\u001b[0m\u001b[1;33m[\u001b[0m\u001b[1;36m1\u001b[0m\u001b[1;33m]\u001b[0m\u001b[1;33m\u001b[0m\u001b[1;33m\u001b[0m\u001b[0m\n\u001b[0;32m     88\u001b[0m                     \u001b[0mself\u001b[0m\u001b[1;33m.\u001b[0m\u001b[0mclient\u001b[0m\u001b[1;33m.\u001b[0m\u001b[0msimxSetJointTargetVelocity\u001b[0m\u001b[1;33m(\u001b[0m\u001b[0mself\u001b[0m\u001b[1;33m.\u001b[0m\u001b[0m_motorHandle\u001b[0m\u001b[1;33m,\u001b[0m \u001b[0mx_aux\u001b[0m\u001b[1;33m[\u001b[0m\u001b[1;36m0\u001b[0m\u001b[1;33m]\u001b[0m \u001b[1;33m,\u001b[0m \u001b[0mself\u001b[0m\u001b[1;33m.\u001b[0m\u001b[0mclient\u001b[0m\u001b[1;33m.\u001b[0m\u001b[0msimxServiceCall\u001b[0m\u001b[1;33m(\u001b[0m\u001b[1;33m)\u001b[0m\u001b[1;33m)\u001b[0m\u001b[1;33m\u001b[0m\u001b[1;33m\u001b[0m\u001b[0m\n",
      "\u001b[1;32m~\\Documents\\Diego_Aldunate\\Control_Sistemas\\ICM2813_20202_PP1_Alumnos\\ICM2813\\step.py\u001b[0m in \u001b[0;36mstep_model\u001b[1;34m(model, u, t0, step_size, x0)\u001b[0m\n\u001b[0;32m      8\u001b[0m     \u001b[0mNsamp\u001b[0m \u001b[1;33m=\u001b[0m \u001b[1;36m10\u001b[0m\u001b[1;33m+\u001b[0m\u001b[1;36m1\u001b[0m\u001b[1;33m\u001b[0m\u001b[1;33m\u001b[0m\u001b[0m\n\u001b[0;32m      9\u001b[0m     \u001b[0mtX\u001b[0m \u001b[1;33m=\u001b[0m \u001b[0mnp\u001b[0m\u001b[1;33m.\u001b[0m\u001b[0mlinspace\u001b[0m\u001b[1;33m(\u001b[0m\u001b[0mt0\u001b[0m\u001b[1;33m,\u001b[0m \u001b[0mtfinal\u001b[0m\u001b[1;33m,\u001b[0m \u001b[0mNsamp\u001b[0m\u001b[1;33m)\u001b[0m\u001b[1;33m\u001b[0m\u001b[1;33m\u001b[0m\u001b[0m\n\u001b[1;32m---> 10\u001b[1;33m     \u001b[0mx\u001b[0m \u001b[1;33m=\u001b[0m \u001b[0msolve_ivp\u001b[0m\u001b[1;33m(\u001b[0m\u001b[0mpartial\u001b[0m\u001b[1;33m(\u001b[0m\u001b[0mmodel\u001b[0m\u001b[1;33m,\u001b[0m \u001b[0mu\u001b[0m\u001b[1;33m=\u001b[0m\u001b[0mu\u001b[0m\u001b[1;33m)\u001b[0m\u001b[1;33m,\u001b[0m \u001b[1;33m(\u001b[0m\u001b[0mt0\u001b[0m\u001b[1;33m,\u001b[0m \u001b[0mtfinal\u001b[0m\u001b[1;33m)\u001b[0m\u001b[1;33m,\u001b[0m \u001b[0mx0\u001b[0m\u001b[1;33m,\u001b[0m \u001b[0mmethod\u001b[0m\u001b[1;33m=\u001b[0m\u001b[1;34m\"BDF\"\u001b[0m\u001b[1;33m,\u001b[0m \u001b[0mt_eval\u001b[0m\u001b[1;33m=\u001b[0m\u001b[0mtX\u001b[0m\u001b[1;33m)\u001b[0m\u001b[1;33m\u001b[0m\u001b[1;33m\u001b[0m\u001b[0m\n\u001b[0m\u001b[0;32m     11\u001b[0m \u001b[1;33m\u001b[0m\u001b[0m\n\u001b[0;32m     12\u001b[0m     \u001b[1;32mreturn\u001b[0m \u001b[0mY\u001b[0m\u001b[1;33m(\u001b[0m\u001b[0mx\u001b[0m\u001b[1;33m.\u001b[0m\u001b[0my\u001b[0m\u001b[1;33m.\u001b[0m\u001b[0mT\u001b[0m\u001b[1;33m[\u001b[0m\u001b[1;33m-\u001b[0m\u001b[1;36m1\u001b[0m\u001b[1;33m,\u001b[0m\u001b[1;33m:\u001b[0m\u001b[1;33m]\u001b[0m\u001b[1;33m)\u001b[0m\u001b[1;33m\u001b[0m\u001b[1;33m\u001b[0m\u001b[0m\n",
      "\u001b[1;32m~\\anaconda3\\lib\\site-packages\\scipy\\integrate\\_ivp\\ivp.py\u001b[0m in \u001b[0;36msolve_ivp\u001b[1;34m(fun, t_span, y0, method, t_eval, dense_output, events, vectorized, args, **options)\u001b[0m\n\u001b[0;32m    574\u001b[0m     \u001b[0mstatus\u001b[0m \u001b[1;33m=\u001b[0m \u001b[1;32mNone\u001b[0m\u001b[1;33m\u001b[0m\u001b[1;33m\u001b[0m\u001b[0m\n\u001b[0;32m    575\u001b[0m     \u001b[1;32mwhile\u001b[0m \u001b[0mstatus\u001b[0m \u001b[1;32mis\u001b[0m \u001b[1;32mNone\u001b[0m\u001b[1;33m:\u001b[0m\u001b[1;33m\u001b[0m\u001b[1;33m\u001b[0m\u001b[0m\n\u001b[1;32m--> 576\u001b[1;33m         \u001b[0mmessage\u001b[0m \u001b[1;33m=\u001b[0m \u001b[0msolver\u001b[0m\u001b[1;33m.\u001b[0m\u001b[0mstep\u001b[0m\u001b[1;33m(\u001b[0m\u001b[1;33m)\u001b[0m\u001b[1;33m\u001b[0m\u001b[1;33m\u001b[0m\u001b[0m\n\u001b[0m\u001b[0;32m    577\u001b[0m \u001b[1;33m\u001b[0m\u001b[0m\n\u001b[0;32m    578\u001b[0m         \u001b[1;32mif\u001b[0m \u001b[0msolver\u001b[0m\u001b[1;33m.\u001b[0m\u001b[0mstatus\u001b[0m \u001b[1;33m==\u001b[0m \u001b[1;34m'finished'\u001b[0m\u001b[1;33m:\u001b[0m\u001b[1;33m\u001b[0m\u001b[1;33m\u001b[0m\u001b[0m\n",
      "\u001b[1;32m~\\anaconda3\\lib\\site-packages\\scipy\\integrate\\_ivp\\base.py\u001b[0m in \u001b[0;36mstep\u001b[1;34m(self)\u001b[0m\n\u001b[0;32m    179\u001b[0m         \u001b[1;32melse\u001b[0m\u001b[1;33m:\u001b[0m\u001b[1;33m\u001b[0m\u001b[1;33m\u001b[0m\u001b[0m\n\u001b[0;32m    180\u001b[0m             \u001b[0mt\u001b[0m \u001b[1;33m=\u001b[0m \u001b[0mself\u001b[0m\u001b[1;33m.\u001b[0m\u001b[0mt\u001b[0m\u001b[1;33m\u001b[0m\u001b[1;33m\u001b[0m\u001b[0m\n\u001b[1;32m--> 181\u001b[1;33m             \u001b[0msuccess\u001b[0m\u001b[1;33m,\u001b[0m \u001b[0mmessage\u001b[0m \u001b[1;33m=\u001b[0m \u001b[0mself\u001b[0m\u001b[1;33m.\u001b[0m\u001b[0m_step_impl\u001b[0m\u001b[1;33m(\u001b[0m\u001b[1;33m)\u001b[0m\u001b[1;33m\u001b[0m\u001b[1;33m\u001b[0m\u001b[0m\n\u001b[0m\u001b[0;32m    182\u001b[0m \u001b[1;33m\u001b[0m\u001b[0m\n\u001b[0;32m    183\u001b[0m             \u001b[1;32mif\u001b[0m \u001b[1;32mnot\u001b[0m \u001b[0msuccess\u001b[0m\u001b[1;33m:\u001b[0m\u001b[1;33m\u001b[0m\u001b[1;33m\u001b[0m\u001b[0m\n",
      "\u001b[1;32m~\\anaconda3\\lib\\site-packages\\scipy\\integrate\\_ivp\\bdf.py\u001b[0m in \u001b[0;36m_step_impl\u001b[1;34m(self)\u001b[0m\n\u001b[0;32m    431\u001b[0m         \u001b[0mfactor\u001b[0m \u001b[1;33m=\u001b[0m \u001b[0mmin\u001b[0m\u001b[1;33m(\u001b[0m\u001b[0mMAX_FACTOR\u001b[0m\u001b[1;33m,\u001b[0m \u001b[0msafety\u001b[0m \u001b[1;33m*\u001b[0m \u001b[0mnp\u001b[0m\u001b[1;33m.\u001b[0m\u001b[0mmax\u001b[0m\u001b[1;33m(\u001b[0m\u001b[0mfactors\u001b[0m\u001b[1;33m)\u001b[0m\u001b[1;33m)\u001b[0m\u001b[1;33m\u001b[0m\u001b[1;33m\u001b[0m\u001b[0m\n\u001b[0;32m    432\u001b[0m         \u001b[0mself\u001b[0m\u001b[1;33m.\u001b[0m\u001b[0mh_abs\u001b[0m \u001b[1;33m*=\u001b[0m \u001b[0mfactor\u001b[0m\u001b[1;33m\u001b[0m\u001b[1;33m\u001b[0m\u001b[0m\n\u001b[1;32m--> 433\u001b[1;33m         \u001b[0mchange_D\u001b[0m\u001b[1;33m(\u001b[0m\u001b[0mD\u001b[0m\u001b[1;33m,\u001b[0m \u001b[0morder\u001b[0m\u001b[1;33m,\u001b[0m \u001b[0mfactor\u001b[0m\u001b[1;33m)\u001b[0m\u001b[1;33m\u001b[0m\u001b[1;33m\u001b[0m\u001b[0m\n\u001b[0m\u001b[0;32m    434\u001b[0m         \u001b[0mself\u001b[0m\u001b[1;33m.\u001b[0m\u001b[0mn_equal_steps\u001b[0m \u001b[1;33m=\u001b[0m \u001b[1;36m0\u001b[0m\u001b[1;33m\u001b[0m\u001b[1;33m\u001b[0m\u001b[0m\n\u001b[0;32m    435\u001b[0m         \u001b[0mself\u001b[0m\u001b[1;33m.\u001b[0m\u001b[0mLU\u001b[0m \u001b[1;33m=\u001b[0m \u001b[1;32mNone\u001b[0m\u001b[1;33m\u001b[0m\u001b[1;33m\u001b[0m\u001b[0m\n",
      "\u001b[1;32m~\\anaconda3\\lib\\site-packages\\scipy\\integrate\\_ivp\\bdf.py\u001b[0m in \u001b[0;36mchange_D\u001b[1;34m(D, order, factor)\u001b[0m\n\u001b[0;32m     30\u001b[0m     \u001b[0mR\u001b[0m \u001b[1;33m=\u001b[0m \u001b[0mcompute_R\u001b[0m\u001b[1;33m(\u001b[0m\u001b[0morder\u001b[0m\u001b[1;33m,\u001b[0m \u001b[0mfactor\u001b[0m\u001b[1;33m)\u001b[0m\u001b[1;33m\u001b[0m\u001b[1;33m\u001b[0m\u001b[0m\n\u001b[0;32m     31\u001b[0m     \u001b[0mU\u001b[0m \u001b[1;33m=\u001b[0m \u001b[0mcompute_R\u001b[0m\u001b[1;33m(\u001b[0m\u001b[0morder\u001b[0m\u001b[1;33m,\u001b[0m \u001b[1;36m1\u001b[0m\u001b[1;33m)\u001b[0m\u001b[1;33m\u001b[0m\u001b[1;33m\u001b[0m\u001b[0m\n\u001b[1;32m---> 32\u001b[1;33m     \u001b[0mRU\u001b[0m \u001b[1;33m=\u001b[0m \u001b[0mR\u001b[0m\u001b[1;33m.\u001b[0m\u001b[0mdot\u001b[0m\u001b[1;33m(\u001b[0m\u001b[0mU\u001b[0m\u001b[1;33m)\u001b[0m\u001b[1;33m\u001b[0m\u001b[1;33m\u001b[0m\u001b[0m\n\u001b[0m\u001b[0;32m     33\u001b[0m     \u001b[0mD\u001b[0m\u001b[1;33m[\u001b[0m\u001b[1;33m:\u001b[0m\u001b[0morder\u001b[0m \u001b[1;33m+\u001b[0m \u001b[1;36m1\u001b[0m\u001b[1;33m]\u001b[0m \u001b[1;33m=\u001b[0m \u001b[0mnp\u001b[0m\u001b[1;33m.\u001b[0m\u001b[0mdot\u001b[0m\u001b[1;33m(\u001b[0m\u001b[0mRU\u001b[0m\u001b[1;33m.\u001b[0m\u001b[0mT\u001b[0m\u001b[1;33m,\u001b[0m \u001b[0mD\u001b[0m\u001b[1;33m[\u001b[0m\u001b[1;33m:\u001b[0m\u001b[0morder\u001b[0m \u001b[1;33m+\u001b[0m \u001b[1;36m1\u001b[0m\u001b[1;33m]\u001b[0m\u001b[1;33m)\u001b[0m\u001b[1;33m\u001b[0m\u001b[1;33m\u001b[0m\u001b[0m\n\u001b[0;32m     34\u001b[0m \u001b[1;33m\u001b[0m\u001b[0m\n",
      "\u001b[1;31mKeyboardInterrupt\u001b[0m: "
     ]
    }
   ],
   "source": [
    "from ICM2813.Server import Motor\n",
    "import numpy as np\n",
    "\n",
    "class MiControlador(Motor):\n",
    "    def __init__(self):\n",
    "        self.stop()        # detener simualción al principio\n",
    "        super().__init__() # no modificar\n",
    "        # Las siguientes variables son de ejemplo y puede agregar o eliminar según lo necesite.\n",
    "        # Estas variables son útiles para almacenar valores entre cada iteración de su controlador\n",
    "        self.t = []\n",
    "        self.theta = []\n",
    "        \n",
    "        self.Kp=0\n",
    "        self.Ki=0\n",
    "        self.Kd=0\n",
    "        self.error=0\n",
    "        self.error_anterior=0\n",
    "        self.error_acumulado=0\n",
    "        self.error_derivativo=0\n",
    "        self.t_ant=0.01\n",
    "\n",
    "    def control(self, theta, t):\n",
    "        '''\n",
    "        Esta función es la única que se requiere para poder correr el programa. Si lo desea puede agregar más  \n",
    "        funciones a la clase MiControlador. Esta función recibe como entrada (ya calculada) lo siguiente:\n",
    "        * theta: Que corresponde al ángulo del motor en radianes (+/-pi)\n",
    "        * t: tiempo entre cada vez que se le actualizan los comandos al robot (50 ms)\n",
    "        A continuación se presenta un código para mover el motor en forma continua que debe modificar\n",
    "        para implementar su controlador PID\n",
    "        '''\n",
    "        \n",
    "        # Almacenar variables que desee aquí\n",
    "        print(\"{:.3f},\\t{:.2f}\".format(t,np.rad2deg(theta)))\n",
    "        self.t.append(t)\n",
    "        self.theta.append(np.rad2deg(theta))\n",
    "\n",
    "       \n",
    "            \n",
    "        if t>5:\n",
    "            theta_ref=np.radians(90)\n",
    "        else:\n",
    "            theta_ref = np.radians(0)\n",
    "\n",
    "        self.error=theta_ref-theta\n",
    "        delta_t=t-self.t_ant\n",
    "        self.error_derivativo=(self.error-self.error_anterior)/delta_t\n",
    "        self.error_acumulado+=self.error\n",
    "\n",
    "        PWM=50\n",
    "        #PWM=self.Kp*self.error + self.Kd*self.error_derivativo + self.Ki*self.error_acumulado*delta_t\n",
    "\n",
    "        self.t_ant=t\n",
    "        self.error_anterior=self.error\n",
    "        \n",
    "        #Detender simulación después de un tiempo\n",
    "        if t >= 10:\n",
    "            self.stop()\n",
    "\n",
    "        return PWM\n",
    "    \n",
    "\n",
    "m = MiControlador()\n",
    "m.run()"
   ]
  },
  {
   "cell_type": "markdown",
   "metadata": {},
   "source": [
    "# Análisis de Resultados\n",
    "Al terminar la simualción puede graficar y analizar resultados aquí. A continuación un ejemplo que puede modificar libremente. Recuerde entregar gráficos con título, nombre de ejes, unidades, etc."
   ]
  },
  {
   "cell_type": "code",
   "execution_count": 2,
   "metadata": {},
   "outputs": [
    {
     "name": "stdout",
     "output_type": "stream",
     "text": [
      "Populating the interactive namespace from numpy and matplotlib\n"
     ]
    },
    {
     "data": {
      "text/plain": [
       "[<matplotlib.lines.Line2D at 0x1d2e92a69d0>]"
      ]
     },
     "execution_count": 2,
     "metadata": {},
     "output_type": "execute_result"
    },
    {
     "data": {
      "image/png": "[encoded data removed]",
      "text/plain": [
       "<Figure size 432x288 with 1 Axes>"
      ]
     },
     "metadata": {
      "needs_background": "light"
     },
     "output_type": "display_data"
    }
   ],
   "source": [
    "%pylab inline\n",
    "plot(m.t,m.theta)"
   ]
  },
  {
   "cell_type": "code",
   "execution_count": null,
   "metadata": {},
   "outputs": [],
   "source": []
  }
 ],
 "metadata": {
  "kernelspec": {
   "display_name": "Python 3",
   "language": "python",
   "name": "python3"
  },
  "language_info": {
   "codemirror_mode": {
    "name": "ipython",
    "version": 3
   },
   "file_extension": ".py",
   "mimetype": "text/x-python",
   "name": "python",
   "nbconvert_exporter": "python",
   "pygments_lexer": "ipython3",
   "version": "3.8.3"
  }
 },
 "nbformat": 4,
 "nbformat_minor": 4
}
