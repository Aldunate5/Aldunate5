{
 "cells": [
  {
   "cell_type": "markdown",
   "metadata": {},
   "source": [
    "# Proyecto ICM2813\n",
    "\n",
    "El siguiente proyecto busca que usted pueda implementar un control (del tipo que usted prefiera) de modo de poder controlar un sistema de la vida real.\n",
    "\n"
   ]
  },
  {
   "cell_type": "markdown",
   "metadata": {},
   "source": [
    "# Diseño del controlador.\n",
    "\n",
    "Como se puede apreciar, el controlador definido a continuación permite a partir de la señal medida del sensor de línea controlar el robot para mantener la referencia alineada con el centro de la pista. El diseño del controlador es libre y puede utilizar el método que más prefiera. Ejemplos de controladores que puede implementar son : PID, Banga-Bang, Control óptimo, Control Robusto, control no lineal, control predictivo, control difuso, Redes Neuronales y un largo etc. "
   ]
  },
  {
   "cell_type": "code",
   "execution_count": null,
   "metadata": {},
   "outputs": [],
   "source": [
    "from ICM2813.Server import LineFollower\n",
    "import numpy as np\n",
    "\n",
    "class MiControlador:\n",
    "    def __init__(self):\n",
    "        self.var=2\n",
    "        self.foo=True\n",
    "        \n",
    "        self.base_speed=0\n",
    "        self.base_referencia=20\n",
    "        \n",
    "        #PID\n",
    "        self.Kp=1\n",
    "        self.Ki=0\n",
    "        self.Kd=0.08\n",
    "        \n",
    "        #error\n",
    "        self.error_anterior=0\n",
    "        self.error_acumulado=0\n",
    "        self.error_derivativo=0\n",
    "\n",
    "\n",
    "    def calculate(self, error, dt):\n",
    "        \n",
    "        '''\n",
    "        Esta función es la única que se requiere para poder correr el programa. Si lo desea puede agregar más  \n",
    "        funciones a la clase controlador (__init__). Esta función recibe como entrada (ya calculada) lo siguiente:\n",
    "        * error: Que corresponde a la distancia al centro de la línea cuando estamos sobre ella (varía entre -3500 y 3500)\n",
    "        * dt: diferencia de tiempo entre cada vez que se le actualizan los comandos al robot (50 ms)\n",
    "        A continuación se presenta un código para mover el robot en línea recta independiente del error.\n",
    "        '''\n",
    "        \n",
    "        error_aux=error\n",
    "        \n",
    "        if error>0:\n",
    "            error=error\n",
    "        else:\n",
    "            error=-error\n",
    "        \n",
    "        # Definir velocidad de giro del robot\n",
    "        velang = (self.Kp*error)+(self.Ki*self.error_acumulado)*dt+(self.Kd*self.error_derivativo)/dt\n",
    "\n",
    "        #velocidad del robot\n",
    "        self.base_speed=self.base_referencia+error*0.004\n",
    "    \n",
    "        \n",
    "        #actualizar error\n",
    "        self.error_anterior = error_aux\n",
    "        self.error_derivativo = (error_aux - self.error_anterior)\n",
    "        self.error_acumulado += error_aux\n",
    "        \n",
    "        # Mapenado las señales de vel lineal y ángular del robot a la vel de cada rueda\n",
    "        w_derecha   = self.base_speed + velang\n",
    "        w_izquierda = self.base_speed - velang\n",
    "        return (w_derecha, w_izquierda)\n",
    "\n",
    "\n",
    "controlador = MiControlador()\n",
    "LF = LineFollower(controlador)\n",
    "LF.run()\n",
    "del(LF)"
   ]
  },
  {
   "cell_type": "code",
   "execution_count": null,
   "metadata": {},
   "outputs": [],
   "source": []
  },
  {
   "cell_type": "code",
   "execution_count": null,
   "metadata": {},
   "outputs": [],
   "source": []
  }
 ],
 "metadata": {
  "kernelspec": {
   "display_name": "Python 3",
   "language": "python",
   "name": "python3"
  },
  "language_info": {
   "codemirror_mode": {
    "name": "ipython",
    "version": 3
   },
   "file_extension": ".py",
   "mimetype": "text/x-python",
   "name": "python",
   "nbconvert_exporter": "python",
   "pygments_lexer": "ipython3",
   "version": "3.8.3"
  }
 },
 "nbformat": 4,
 "nbformat_minor": 2
}
