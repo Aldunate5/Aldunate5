{
 "cells": [
  {
   "cell_type": "markdown",
   "metadata": {},
   "source": [
    "# Proyecto ICM2813\n",
    "\n",
    "El siguiente proyecto busca que usted pueda implementar un control (del tipo que usted prefiera) de modo de poder controlar un sistema de la vida real.\n",
    "\n"
   ]
  },
  {
   "cell_type": "markdown",
   "metadata": {},
   "source": [
    "# Diseño del controlador.\n",
    "\n",
    "Como se puede apreciar, el controlador definido a continuación permite a partir de la señal medida del sensor de línea controlar el robot para mantener la referencia alineada con el centro de la pista. El diseño del controlador es libre y puede utilizar el método que más prefiera. Ejemplos de controladores que puede implementar son : PID, Banga-Bang, Control óptimo, Control Robusto, control no lineal, control predictivo, control difuso, Redes Neuronales y un largo etc. "
   ]
  },
  {
   "cell_type": "code",
   "execution_count": 1,
   "metadata": {},
   "outputs": [
    {
     "name": "stdout",
     "output_type": "stream",
     "text": [
      "\n",
      "  Running B0 Remote API client with channel name [b0RemoteApi]\n",
      "  make sure that: 1) the B0 resolver is running\n",
      "                  2) CoppeliaSim is running the B0 Remote API server with the same channel name\n",
      "  Initializing...\n",
      "\n",
      "\n",
      "  Connected!\n",
      "\n",
      "Inicializando seguidor de linea\n",
      "counts : 1\n",
      "Procesando!\n"
     ]
    },
    {
     "ename": "AttributeError",
     "evalue": "'MiControlador' object has no attribute 'Kp'",
     "output_type": "error",
     "traceback": [
      "\u001b[1;31m---------------------------------------------------------------------------\u001b[0m",
      "\u001b[1;31mAttributeError\u001b[0m                            Traceback (most recent call last)",
      "\u001b[1;32m<ipython-input-1-5bab08f7ebae>\u001b[0m in \u001b[0;36m<module>\u001b[1;34m\u001b[0m\n\u001b[0;32m     42\u001b[0m \u001b[0mcontrolador\u001b[0m \u001b[1;33m=\u001b[0m \u001b[0mMiControlador\u001b[0m\u001b[1;33m(\u001b[0m\u001b[1;33m)\u001b[0m\u001b[1;33m\u001b[0m\u001b[1;33m\u001b[0m\u001b[0m\n\u001b[0;32m     43\u001b[0m \u001b[0mLF\u001b[0m \u001b[1;33m=\u001b[0m \u001b[0mLineFollower\u001b[0m\u001b[1;33m(\u001b[0m\u001b[0mcontrolador\u001b[0m\u001b[1;33m)\u001b[0m\u001b[1;33m\u001b[0m\u001b[1;33m\u001b[0m\u001b[0m\n\u001b[1;32m---> 44\u001b[1;33m \u001b[0mLF\u001b[0m\u001b[1;33m.\u001b[0m\u001b[0mrun\u001b[0m\u001b[1;33m(\u001b[0m\u001b[1;33m)\u001b[0m\u001b[1;33m\u001b[0m\u001b[1;33m\u001b[0m\u001b[0m\n\u001b[0m\u001b[0;32m     45\u001b[0m \u001b[1;32mdel\u001b[0m\u001b[1;33m(\u001b[0m\u001b[0mLF\u001b[0m\u001b[1;33m)\u001b[0m\u001b[1;33m\u001b[0m\u001b[1;33m\u001b[0m\u001b[0m\n\u001b[0;32m     46\u001b[0m \u001b[1;33m\u001b[0m\u001b[0m\n",
      "\u001b[1;32m~\\Documents\\Diego_Aldunate\\Control_Sistemas\\ICM2813_20202_PP2_Alumnos V2\\ICM2813\\Server.py\u001b[0m in \u001b[0;36mrun\u001b[1;34m(self)\u001b[0m\n\u001b[0;32m    267\u001b[0m \u001b[1;33m\u001b[0m\u001b[0m\n\u001b[0;32m    268\u001b[0m \u001b[1;33m\u001b[0m\u001b[0m\n\u001b[1;32m--> 269\u001b[1;33m                     \u001b[0mw_derecha\u001b[0m\u001b[1;33m,\u001b[0m \u001b[0mw_izquierda\u001b[0m \u001b[1;33m=\u001b[0m \u001b[0mself\u001b[0m\u001b[1;33m.\u001b[0m\u001b[0mcontroller\u001b[0m\u001b[1;33m.\u001b[0m\u001b[0mcalculate\u001b[0m\u001b[1;33m(\u001b[0m\u001b[0merror\u001b[0m\u001b[1;33m,\u001b[0m \u001b[0mdt\u001b[0m\u001b[1;33m)\u001b[0m\u001b[1;33m\u001b[0m\u001b[1;33m\u001b[0m\u001b[0m\n\u001b[0m\u001b[0;32m    270\u001b[0m \u001b[1;33m\u001b[0m\u001b[0m\n\u001b[0;32m    271\u001b[0m                     \u001b[1;31m# Cambiamos el valor de las velocidades de las ruedas.\u001b[0m\u001b[1;33m\u001b[0m\u001b[1;33m\u001b[0m\u001b[1;33m\u001b[0m\u001b[0m\n",
      "\u001b[1;32m<ipython-input-1-5bab08f7ebae>\u001b[0m in \u001b[0;36mcalculate\u001b[1;34m(self, error, dt)\u001b[0m\n\u001b[0;32m     15\u001b[0m \u001b[1;33m\u001b[0m\u001b[0m\n\u001b[0;32m     16\u001b[0m         \u001b[1;31m# Definir velocidad de giro del robot\u001b[0m\u001b[1;33m\u001b[0m\u001b[1;33m\u001b[0m\u001b[1;33m\u001b[0m\u001b[0m\n\u001b[1;32m---> 17\u001b[1;33m         \u001b[0maporte_proporcional\u001b[0m \u001b[1;33m=\u001b[0m \u001b[0merror\u001b[0m \u001b[1;33m*\u001b[0m \u001b[0mself\u001b[0m\u001b[1;33m.\u001b[0m\u001b[0mKp\u001b[0m\u001b[1;33m\u001b[0m\u001b[1;33m\u001b[0m\u001b[0m\n\u001b[0m\u001b[0;32m     18\u001b[0m         \u001b[0maporte_integral\u001b[0m \u001b[1;33m=\u001b[0m \u001b[1;33m(\u001b[0m\u001b[0mself\u001b[0m\u001b[1;33m.\u001b[0m\u001b[0merror_acumulado\u001b[0m \u001b[1;33m*\u001b[0m \u001b[0mself\u001b[0m\u001b[1;33m.\u001b[0m\u001b[0mKi\u001b[0m\u001b[1;33m)\u001b[0m \u001b[1;33m*\u001b[0m \u001b[0mdt\u001b[0m\u001b[1;33m\u001b[0m\u001b[1;33m\u001b[0m\u001b[0m\n\u001b[0;32m     19\u001b[0m         \u001b[0maporte_derivativo\u001b[0m \u001b[1;33m=\u001b[0m \u001b[1;33m(\u001b[0m\u001b[0mself\u001b[0m\u001b[1;33m.\u001b[0m\u001b[0merror_derivativo\u001b[0m \u001b[1;33m*\u001b[0m \u001b[0mself\u001b[0m\u001b[1;33m.\u001b[0m\u001b[0mKd\u001b[0m\u001b[1;33m)\u001b[0m \u001b[1;33m/\u001b[0m \u001b[0mdt\u001b[0m\u001b[1;33m\u001b[0m\u001b[1;33m\u001b[0m\u001b[0m\n",
      "\u001b[1;31mAttributeError\u001b[0m: 'MiControlador' object has no attribute 'Kp'"
     ]
    }
   ],
   "source": [
    "from ICM2813.Server import LineFollower\n",
    "import numpy as np\n",
    "\n",
    "class MiControlador:\n",
    "\n",
    "    def _init_(self):\n",
    "        self.Kp = 0.9  * 0.001\n",
    "        self.Ki = 0.0  * 0.001\n",
    "        self.Kd = 0.08 * 0.001\n",
    "        self.error_acumulado  = 0.0\n",
    "        self.error_derivativo = 0.0\n",
    "        self.error_anterior   = 0.0\n",
    "\n",
    "    def calculate(self, error, dt):\n",
    "\n",
    "        # Definir velocidad de giro del robot\n",
    "        aporte_proporcional = error * self.Kp\n",
    "        aporte_integral = (self.error_acumulado * self.Ki) * dt\n",
    "        aporte_derivativo = (self.error_derivativo * self.Kd) / dt\n",
    "        \n",
    "        velang = aporte_proporcional + aporte_integral + aporte_derivativo\n",
    "        self.base_speed = 15 - np.abs(error*0.002)\n",
    "        \n",
    "        self.error_acumulado += error\n",
    "        self.error_derivativo = (error - self.error_anterior)\n",
    "        \n",
    "        print('Error: {:.2f}'.format(error))\n",
    "        print('Aporte Proporcional {:.2f}'.format(aporte_proporcional))\n",
    "        print('Aporte Integral {:.2f}'.format(aporte_integral))\n",
    "        print('Aporte Derivativo {:.2f}'.format(aporte_derivativo))\n",
    "        print('_' * 30)\n",
    "        \n",
    "\n",
    "        w_derecha   = self.base_speed + velang\n",
    "        w_izquierda = self.base_speed - velang\n",
    "        \n",
    "        self.error_anterior = error\n",
    "        \n",
    "        return (w_derecha, w_izquierda)\n",
    "\n",
    "\n",
    "controlador = MiControlador()\n",
    "LF = LineFollower(controlador)\n",
    "LF.run()\n",
    "del(LF)\n",
    "\n"
   ]
  },
  {
   "cell_type": "code",
   "execution_count": null,
   "metadata": {},
   "outputs": [],
   "source": []
  }
 ],
 "metadata": {
  "kernelspec": {
   "display_name": "Python 3",
   "language": "python",
   "name": "python3"
  },
  "language_info": {
   "codemirror_mode": {
    "name": "ipython",
    "version": 3
   },
   "file_extension": ".py",
   "mimetype": "text/x-python",
   "name": "python",
   "nbconvert_exporter": "python",
   "pygments_lexer": "ipython3",
   "version": "3.8.3"
  }
 },
 "nbformat": 4,
 "nbformat_minor": 2
}
