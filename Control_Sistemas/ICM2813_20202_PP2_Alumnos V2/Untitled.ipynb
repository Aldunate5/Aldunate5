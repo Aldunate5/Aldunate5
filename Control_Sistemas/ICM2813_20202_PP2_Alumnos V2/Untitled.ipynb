{
 "cells": [
  {
   "cell_type": "code",
   "execution_count": null,
   "metadata": {},
   "outputs": [],
   "source": [
    "from ICM2813.Server import LineFollower\n",
    "import numpy as np\n",
    "\n",
    "class MiControlador:\n",
    "\n",
    "    def _init_(self):\n",
    "        self.Kp=0.9*0.001\n",
    "        self.Ki = 0.0*0.001\n",
    "        self.Kd = 0.08*0.001\n",
    "        self.error_acumulado  = 0.0\n",
    "        self.error_derivativo = 0.0\n",
    "        self.error_anterior   = 0.0\n",
    "\n",
    "    def calculate(self, error, dt):\n",
    "\n",
    "        # Definir velocidad de giro del robot\n",
    "        aporte_proporcional = (error * self.Kp)\n",
    "        aporte_integral = (self.error_acumulado * self.Ki) * dt\n",
    "        aporte_derivativo = (self.error_derivativo * self.Kd) / dt\n",
    "        \n",
    "        velang = aporte_proporcional + aporte_integral + aporte_derivativo\n",
    "        self.base_speed = 15 - np.abs(error*0.002)\n",
    "        \n",
    "        self.error_acumulado += error\n",
    "        self.error_derivativo = (error - self.error_anterior)\n",
    "        \n",
    "        print('Error: {:.2f}'.format(error))\n",
    "        print('Aporte Proporcional {:.2f}'.format(aporte_proporcional))\n",
    "        print('Aporte Integral {:.2f}'.format(aporte_integral))\n",
    "        print('Aporte Derivativo {:.2f}'.format(aporte_derivativo))\n",
    "        print('_' * 30)\n",
    "        \n",
    "\n",
    "        w_derecha   = self.base_speed + velang\n",
    "        w_izquierda = self.base_speed - velang\n",
    "        \n",
    "        self.error_anterior = error\n",
    "        \n",
    "        return (w_derecha, w_izquierda)\n",
    "\n",
    "\n",
    "controlador = MiControlador()\n",
    "LF = LineFollower(controlador)\n",
    "LF.run()\n",
    "del(LF)"
   ]
  },
  {
   "cell_type": "code",
   "execution_count": null,
   "metadata": {},
   "outputs": [],
   "source": []
  }
 ],
 "metadata": {
  "kernelspec": {
   "display_name": "Python 3",
   "language": "python",
   "name": "python3"
  },
  "language_info": {
   "codemirror_mode": {
    "name": "ipython",
    "version": 3
   },
   "file_extension": ".py",
   "mimetype": "text/x-python",
   "name": "python",
   "nbconvert_exporter": "python",
   "pygments_lexer": "ipython3",
   "version": "3.8.3"
  }
 },
 "nbformat": 4,
 "nbformat_minor": 4
}
