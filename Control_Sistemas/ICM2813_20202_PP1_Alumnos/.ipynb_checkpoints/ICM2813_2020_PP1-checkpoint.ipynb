{
 "cells": [
  {
   "cell_type": "markdown",
   "metadata": {},
   "source": [
    "## ICM2813 2020-2\n",
    "# Proyecto Practico \\#1\n",
    "\n",
    "El siguiente proyecto busca que usted pueda implementar un control PID de modo de poder controlar la posición de un motor con una barra y analizar los resultados."
   ]
  },
  {
   "cell_type": "markdown",
   "metadata": {},
   "source": [
    "# Diseño del controlador"
   ]
  },
  {
   "cell_type": "markdown",
   "metadata": {},
   "source": [
    "Diseñar un controlador que permita mantener la barra en 0 grados (vertical) por 5 segundos y luego en 90 grados por otros 5 segundos (luego seguir alternando). Se le solicita que diseñe un controlador que permita hacer esto siguiendo las restricciones definidas en el enunciado del PP1."
   ]
  },
  {
   "cell_type": "code",
   "execution_count": null,
   "metadata": {},
   "outputs": [
    {
     "name": "stdout",
     "output_type": "stream",
     "text": [
      "Populating the interactive namespace from numpy and matplotlib\n"
     ]
    }
   ],
   "source": [
    "%pylab inline\n",
    "from ICM2813.Server import Motor\n",
    "\n",
    "class MiControlador(Motor):\n",
    "    def __init__(self):\n",
    "        super().__init__() # no modificar\n",
    "        # Las siguientes variables son de ejemplo y puede agregar o eliminar según lo necesite.\n",
    "        # Estas variables son útiles para almacenar valores entre cada iteración de su controlador\n",
    "        self.var = 2\n",
    "        self.foo = True\n",
    "\n",
    "    def control(self, theta, t):\n",
    "        '''\n",
    "        Esta función es la única que se requiere para poder correr el programa. Si lo desea puede agregar más  \n",
    "        funciones a la clase MiControlador. Esta función recibe como entrada (ya calculada) lo siguiente:\n",
    "        * theta: Que corresponde al ángulo del motor en radianes (+/-pi)\n",
    "        * t: tiempo entre cada vez que se le actualizan los comandos al robot (50 ms)\n",
    "        A continuación se presenta un código para mover el motor en forma continua que debe modificar\n",
    "        para implementar su controlador PID\n",
    "        '''\n",
    "        \n",
    "        # Definir PWM a aplicar en el motor (voltaje)\n",
    "        pwm_motor = 100\n",
    "        \n",
    "        # Imprimir variables que desee aquí\n",
    "        print(\"{:.3f},\\t{:.2f}\".format(t,np.rad2deg(theta)))\n",
    "\n",
    "        return pwm_motor\n",
    "\n",
    "m = MiControlador()\n",
    "m.run()\n",
    "del(m)"
   ]
  },
  {
   "cell_type": "code",
   "execution_count": null,
   "metadata": {},
   "outputs": [],
   "source": []
  }
 ],
 "metadata": {
  "kernelspec": {
   "display_name": "Python 3",
   "language": "python",
   "name": "python3"
  },
  "language_info": {
   "codemirror_mode": {
    "name": "ipython",
    "version": 3
   },
   "file_extension": ".py",
   "mimetype": "text/x-python",
   "name": "python",
   "nbconvert_exporter": "python",
   "pygments_lexer": "ipython3",
   "version": "3.8.3"
  }
 },
 "nbformat": 4,
 "nbformat_minor": 4
}
